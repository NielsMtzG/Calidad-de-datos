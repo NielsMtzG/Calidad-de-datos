{
  "nbformat": 4,
  "nbformat_minor": 0,
  "metadata": {
    "colab": {
      "provenance": []
    },
    "kernelspec": {
      "name": "python3",
      "display_name": "Python 3"
    },
    "language_info": {
      "name": "python"
    }
  },
  "cells": [
    {
      "cell_type": "code",
      "execution_count": 4,
      "metadata": {
        "id": "qKI8a6c3-pYD"
      },
      "outputs": [],
      "source": [
        "import pandas as pd\n",
        "import numpy as np\n",
        "from datetime import datetime\n",
        "import re\n"
      ]
    },
    {
      "cell_type": "code",
      "source": [
        "data = {\n",
        "    'id': [1, 2, 2, 4, 5],  # ID 2 está duplicado\n",
        "    'nombre': ['Ana', 'Luis', 'Pedro', None, 'Laura'],  # Faltan datos en 'nombre'\n",
        "    'edad': [23, -45, 35, 22, 29],  # Edad negativa, lo cual es inválido\n",
        "    'correo': ['ana@example.com', 'luis@example', 'pedro@example.com', 'marta@.com', 'laura@example.com'],  # Correos inválidos\n",
        "    'fecha_registro': ['2024-01-10', '2025-12-05', '2024-06-15', '2023-12-01', None]  # Faltan fechas de registro\n",
        "}\n",
        "\n",
        "df = pd.DataFrame(data)"
      ],
      "metadata": {
        "id": "77eUtysa-5Ny"
      },
      "execution_count": 6,
      "outputs": []
    },
    {
      "cell_type": "code",
      "source": [
        "df['fecha_registro'] = pd.to_datetime(df['fecha_registro'], errors='coerce')\n",
        "\n",
        "print(\"Conjunto de Datos Inicial:\\n\", df)"
      ],
      "metadata": {
        "colab": {
          "base_uri": "https://localhost:8080/"
        },
        "id": "jCNWvjqqEYMe",
        "outputId": "6704e008-efb0-4865-cf50-54eb86c1342d"
      },
      "execution_count": 7,
      "outputs": [
        {
          "output_type": "stream",
          "name": "stdout",
          "text": [
            "Conjunto de Datos Inicial:\n",
            "    id nombre  edad             correo fecha_registro\n",
            "0   1    Ana    23    ana@example.com     2024-01-10\n",
            "1   2   Luis   -45       luis@example     2025-12-05\n",
            "2   2  Pedro    35  pedro@example.com     2024-06-15\n",
            "3   4   None    22         marta@.com     2023-12-01\n",
            "4   5  Laura    29  laura@example.com            NaT\n"
          ]
        }
      ]
    },
    {
      "cell_type": "markdown",
      "source": [
        "#Precisión (Accuracy):\n",
        "Los datos precisos son aquellos que representan correctamente la realidad.\n",
        "En este caso, verificaremos la precisión de la columna edad, asegurándonos de que todas las edades sean positivas"
      ],
      "metadata": {
        "id": "983LkLT_EcPG"
      }
    },
    {
      "cell_type": "code",
      "source": [
        "df['edad_precisa'] = df['edad'].apply(lambda x: x > 0 if pd.notnull(x) else False)\n",
        "print(\"\\nPrecisión (Edad positiva):\\n\", df[['id', 'edad', 'edad_precisa']])"
      ],
      "metadata": {
        "colab": {
          "base_uri": "https://localhost:8080/"
        },
        "id": "-GXvuSFPEq0s",
        "outputId": "d8476d3d-0232-4bf3-e15a-93cefff2ae68"
      },
      "execution_count": 8,
      "outputs": [
        {
          "output_type": "stream",
          "name": "stdout",
          "text": [
            "\n",
            "Precisión (Edad positiva):\n",
            "    id  edad  edad_precisa\n",
            "0   1    23          True\n",
            "1   2   -45         False\n",
            "2   2    35          True\n",
            "3   4    22          True\n",
            "4   5    29          True\n"
          ]
        }
      ]
    },
    {
      "cell_type": "markdown",
      "source": [
        "#Integridad (Completeness):\n",
        "La integridad se refiere a la ausencia de valores faltantes. Vamos a verificar si existen valores nulos en las columnas críticas, como nombre y fecha_registro."
      ],
      "metadata": {
        "id": "jTr_NR38EovE"
      }
    },
    {
      "cell_type": "code",
      "source": [
        "df['nombre_completo'] = df['nombre'].notna()\n",
        "df['fecha_completa'] = df['fecha_registro'].notna()\n",
        "print(\"\\nIntegridad (Valores completos en 'nombre' y 'fecha_registro'):\\n\", df[['id', 'nombre_completo', 'fecha_completa']])"
      ],
      "metadata": {
        "colab": {
          "base_uri": "https://localhost:8080/"
        },
        "id": "MAEjA_QvE7y4",
        "outputId": "5b8457b9-7a7d-40f0-be9e-d7f1248ff907"
      },
      "execution_count": 9,
      "outputs": [
        {
          "output_type": "stream",
          "name": "stdout",
          "text": [
            "\n",
            "Integridad (Valores completos en 'nombre' y 'fecha_registro'):\n",
            "    id  nombre_completo  fecha_completa\n",
            "0   1             True            True\n",
            "1   2             True            True\n",
            "2   2             True            True\n",
            "3   4            False            True\n",
            "4   5             True           False\n"
          ]
        }
      ]
    },
    {
      "cell_type": "markdown",
      "source": [
        "#Validez (Validity):\n",
        "La validez se refiere a si los datos cumplen con las reglas o estándares. Aquí, verificaremos si los correos electrónicos son válidos utilizando una expresión regular."
      ],
      "metadata": {
        "id": "hheIP0KmFGzd"
      }
    },
    {
      "cell_type": "code",
      "source": [
        "def es_correo_valido(correo):\n",
        "    regex = r'^[a-zA-Z0-9._%+-]+@[a-zA-Z0-9.-]+\\.[a-zA-Z]{2,}$'\n",
        "    if pd.notna(correo):\n",
        "        return bool(re.match(regex, correo))\n",
        "    return False\n",
        "\n",
        "df['correo_valido'] = df['correo'].apply(es_correo_valido)\n",
        "print(\"\\nValidez (Correos electrónicos válidos):\\n\", df[['id', 'correo', 'correo_valido']])"
      ],
      "metadata": {
        "colab": {
          "base_uri": "https://localhost:8080/"
        },
        "id": "FgGXOCYuFOhF",
        "outputId": "f3e3ab0f-84fa-4e12-9b87-cf8cc41a3b3c"
      },
      "execution_count": 10,
      "outputs": [
        {
          "output_type": "stream",
          "name": "stdout",
          "text": [
            "\n",
            "Validez (Correos electrónicos válidos):\n",
            "    id             correo  correo_valido\n",
            "0   1    ana@example.com           True\n",
            "1   2       luis@example          False\n",
            "2   2  pedro@example.com           True\n",
            "3   4         marta@.com          False\n",
            "4   5  laura@example.com           True\n"
          ]
        }
      ]
    },
    {
      "cell_type": "markdown",
      "source": [
        "#Coherencia (Consistency):\n",
        "La coherencia implica que los datos sean uniformes a través del tiempo o en diferentes conjuntos. En este ejemplo, podemos verificar la coherencia en fecha_registro asegurándonos de que las fechas no sean futuras."
      ],
      "metadata": {
        "id": "8rnMmvBfFUgE"
      }
    },
    {
      "cell_type": "code",
      "source": [
        "hoy = datetime.now()\n",
        "df['fecha_coherente'] = df['fecha_registro'].apply(lambda x: datetime.strptime(x, '%Y-%m-%d') <= hoy if pd.notnull(x) else False)\n",
        "print(\"\\nCoherencia (Fechas de registro no futuras):\\n\", df[['id', 'fecha_registro', 'fecha_coherente']])"
      ],
      "metadata": {
        "colab": {
          "base_uri": "https://localhost:8080/"
        },
        "id": "eAE01viJFaQG",
        "outputId": "ab94e7e3-b9a6-4282-b1d1-22e7507f3bfd"
      },
      "execution_count": 11,
      "outputs": [
        {
          "output_type": "stream",
          "name": "stdout",
          "text": [
            "\n",
            "Coherencia (Fechas de registro no futuras):\n",
            "    id fecha_registro  fecha_coherente\n",
            "0   1     2024-01-10             True\n",
            "1   2     2025-12-05            False\n",
            "2   2     2024-06-15             True\n",
            "3   4     2023-12-01             True\n",
            "4   5            NaT            False\n"
          ]
        }
      ]
    },
    {
      "cell_type": "markdown",
      "source": [
        "#Unicidad (Uniqueness):\n",
        "La unicidad se refiere a la ausencia de duplicados. Aquí, verificaremos si la columna id tiene valores duplicados."
      ],
      "metadata": {
        "id": "pSgwzWmDFgpW"
      }
    },
    {
      "cell_type": "code",
      "source": [
        "df['id_unico'] = ~df['id'].duplicated(keep=False)\n",
        "print(\"\\nUnicidad (ID único):\\n\", df[['id', 'id_unico']])"
      ],
      "metadata": {
        "colab": {
          "base_uri": "https://localhost:8080/"
        },
        "id": "8SFjMe6nFkpe",
        "outputId": "4c8ec048-ea9e-4182-db90-719abfdc27ff"
      },
      "execution_count": 12,
      "outputs": [
        {
          "output_type": "stream",
          "name": "stdout",
          "text": [
            "\n",
            "Unicidad (ID único):\n",
            "    id  id_unico\n",
            "0   1      True\n",
            "1   2     False\n",
            "2   2     False\n",
            "3   4      True\n",
            "4   5      True\n"
          ]
        }
      ]
    },
    {
      "cell_type": "markdown",
      "source": [
        "#Oportunidad (Timeliness):\n",
        "La oportunidad se refiere a la actualidad de los datos. Por ejemplo, podríamos verificar si fecha_registro está dentro de un rango de tiempo relevante."
      ],
      "metadata": {
        "id": "Xe9cp4fNFo3W"
      }
    },
    {
      "cell_type": "code",
      "source": [
        "df['fecha_oportuna'] = df['fecha_registro'].apply(lambda x: datetime.strptime(x, '%Y-%m-%d') >= datetime(2022, 1, 1) if pd.notnull(x) else False)\n",
        "print(\"\\nOportunidad (Fechas de registro recientes):\\n\", df[['id', 'fecha_registro', 'fecha_oportuna']])"
      ],
      "metadata": {
        "colab": {
          "base_uri": "https://localhost:8080/"
        },
        "id": "U9ApVjWsFuxE",
        "outputId": "4cb15cbe-f3e2-4623-874a-5d4ef3a2e572"
      },
      "execution_count": 13,
      "outputs": [
        {
          "output_type": "stream",
          "name": "stdout",
          "text": [
            "\n",
            "Oportunidad (Fechas de registro recientes):\n",
            "    id fecha_registro  fecha_oportuna\n",
            "0   1     2024-01-10            True\n",
            "1   2     2025-12-05            True\n",
            "2   2     2024-06-15            True\n",
            "3   4     2023-12-01            True\n",
            "4   5            NaT           False\n"
          ]
        }
      ]
    },
    {
      "cell_type": "markdown",
      "source": [
        "#Aptitud (Fitness):\n",
        "La aptitud evalúa si los datos son útiles para el propósito previsto. Aquí, determinaremos si todos los campos necesarios para un propósito específico (por ejemplo, contactar a un cliente) están presentes y son válidos."
      ],
      "metadata": {
        "id": "3VeE6lW2F2Xa"
      }
    },
    {
      "cell_type": "code",
      "source": [
        "df['datos_aptos'] = df.apply(lambda row: row['nombre_completo'] and row['correo_valido'] and row['fecha_completa'], axis=1)\n",
        "print(\"\\nAptitud (Datos aptos para contacto):\\n\", df[['id', 'datos_aptos']])"
      ],
      "metadata": {
        "colab": {
          "base_uri": "https://localhost:8080/"
        },
        "id": "W9nJtp3kF5Dk",
        "outputId": "bd659c9a-3bbf-45eb-884e-4ed471d24114"
      },
      "execution_count": 14,
      "outputs": [
        {
          "output_type": "stream",
          "name": "stdout",
          "text": [
            "\n",
            "Aptitud (Datos aptos para contacto):\n",
            "    id  datos_aptos\n",
            "0   1         True\n",
            "1   2        False\n",
            "2   2         True\n",
            "3   4        False\n",
            "4   5        False\n"
          ]
        }
      ]
    },
    {
      "cell_type": "markdown",
      "source": [
        "#Ejemplo \"Real\""
      ],
      "metadata": {
        "id": "5osKM__6H0aa"
      }
    },
    {
      "cell_type": "code",
      "source": [
        "df = pd.read_csv(\"tips.csv\")\n",
        "print(df.head())\n"
      ],
      "metadata": {
        "colab": {
          "base_uri": "https://localhost:8080/"
        },
        "id": "wiDH3AVlH5Zv",
        "outputId": "29f47725-da76-435d-a41d-6463c1360912"
      },
      "execution_count": 29,
      "outputs": [
        {
          "output_type": "stream",
          "name": "stdout",
          "text": [
            "   total_bill   tip     sex smoker  day    time  size\n",
            "0       16.99  1.01  Female     No  Sun  Dinner     2\n",
            "1       10.34  1.66    Male     No  Sun  Dinner     3\n",
            "2       21.01  3.50    Male     No  Sun  Dinner     3\n",
            "3       23.68  3.31    Male     No  Sun  Dinner     2\n",
            "4       24.59  3.61  Female     No  Sun  Dinner     4\n"
          ]
        }
      ]
    },
    {
      "cell_type": "code",
      "source": [
        "print(df.describe())"
      ],
      "metadata": {
        "colab": {
          "base_uri": "https://localhost:8080/"
        },
        "id": "LuLegAuWIjLk",
        "outputId": "f7c8ee1e-1972-451e-8b82-723c6dc4d100"
      },
      "execution_count": 30,
      "outputs": [
        {
          "output_type": "stream",
          "name": "stdout",
          "text": [
            "       total_bill         tip        size\n",
            "count  244.000000  244.000000  244.000000\n",
            "mean    19.785943    2.998279    2.569672\n",
            "std      8.902412    1.383638    0.951100\n",
            "min      3.070000    1.000000    1.000000\n",
            "25%     13.347500    2.000000    2.000000\n",
            "50%     17.795000    2.900000    2.000000\n",
            "75%     24.127500    3.562500    3.000000\n",
            "max     50.810000   10.000000    6.000000\n"
          ]
        }
      ]
    },
    {
      "cell_type": "code",
      "source": [
        "df.info()"
      ],
      "metadata": {
        "colab": {
          "base_uri": "https://localhost:8080/"
        },
        "id": "ZTQXOEKZMzpH",
        "outputId": "6a03bc73-0f15-4c35-cfaa-a7352ef58b56"
      },
      "execution_count": 42,
      "outputs": [
        {
          "output_type": "stream",
          "name": "stdout",
          "text": [
            "<class 'pandas.core.frame.DataFrame'>\n",
            "RangeIndex: 244 entries, 0 to 243\n",
            "Data columns (total 10 columns):\n",
            " #   Column      Non-Null Count  Dtype  \n",
            "---  ------      --------------  -----  \n",
            " 0   total_bill  244 non-null    float64\n",
            " 1   tip         244 non-null    float64\n",
            " 2   sex         244 non-null    object \n",
            " 3   smoker      244 non-null    object \n",
            " 4   day         244 non-null    object \n",
            " 5   time        244 non-null    object \n",
            " 6   size        244 non-null    int64  \n",
            " 7   tipCom      244 non-null    bool   \n",
            " 8   sexCom      244 non-null    bool   \n",
            " 9   sized       244 non-null    bool   \n",
            "dtypes: bool(3), float64(2), int64(1), object(4)\n",
            "memory usage: 14.2+ KB\n"
          ]
        }
      ]
    },
    {
      "cell_type": "code",
      "source": [
        "import pandas as pd\n",
        "import numpy as np\n",
        "import matplotlib.pyplot as plt\n",
        "import seaborn as sns\n",
        "from scipy.stats import shapiro\n",
        "\n",
        "\n"
      ],
      "metadata": {
        "id": "NFSvieZgI8qp"
      },
      "execution_count": 31,
      "outputs": []
    },
    {
      "cell_type": "code",
      "source": [
        "def norma(var):\n",
        "\t# Realizar la prueba de Shapiro-Wilk para normalidad\n",
        "\tstat, p_value = shapiro(df[var])\n",
        "\tprint(f\"Estadístico de Shapiro-Wilk: {stat:.4f}, Valor p: {p_value:.4f}\")\n",
        "\n",
        "\t# Interpretar el resultado\n",
        "\talpha = 0.05\n",
        "\tif p_value > alpha:\n",
        "\t\tprint(\"No se rechaza la hipótesis nula. Los datos siguen una distribución normal (al nivel de significancia del 5%).\")\n",
        "\telse:\n",
        "\t\tprint(\"Se rechaza la hipótesis nula. Los datos no siguen una distribución normal (al nivel de significancia del 5%).\")"
      ],
      "metadata": {
        "id": "lCg1obGhJF3q"
      },
      "execution_count": 32,
      "outputs": []
    },
    {
      "cell_type": "code",
      "source": [
        "#total_bill         tip        size\n",
        "norma('size')"
      ],
      "metadata": {
        "colab": {
          "base_uri": "https://localhost:8080/"
        },
        "id": "r_aUw0qoJc9C",
        "outputId": "cd4c4449-5a32-4cdc-a631-5526f39c2e2a"
      },
      "execution_count": 52,
      "outputs": [
        {
          "output_type": "stream",
          "name": "stdout",
          "text": [
            "Estadístico de Shapiro-Wilk: 0.7120, Valor p: 0.0000\n",
            "Se rechaza la hipótesis nula. Los datos no siguen una distribución normal (al nivel de significancia del 5%).\n"
          ]
        }
      ]
    }
  ]
}
